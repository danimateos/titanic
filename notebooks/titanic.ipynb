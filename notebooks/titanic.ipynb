{
 "cells": [
  {
   "cell_type": "code",
   "execution_count": 1,
   "metadata": {
    "collapsed": false
   },
   "outputs": [],
   "source": [
    "import pandas as pd\n",
    "import seaborn as sns\n",
    "import matplotlib.pyplot as plt\n",
    "%matplotlib inline"
   ]
  },
  {
   "cell_type": "code",
   "execution_count": 2,
   "metadata": {
    "collapsed": false
   },
   "outputs": [],
   "source": [
    "df = pd.read_csv('../data/train.csv', index_col=0)"
   ]
  },
  {
   "cell_type": "code",
   "execution_count": 3,
   "metadata": {
    "collapsed": false
   },
   "outputs": [
    {
     "name": "stdout",
     "output_type": "stream",
     "text": [
      "Index(['Survived', 'Pclass', 'Name', 'Sex', 'Age', 'SibSp', 'Parch', 'Ticket',\n",
      "       'Fare', 'Cabin', 'Embarked'],\n",
      "      dtype='object')\n",
      "(891, 11)\n"
     ]
    }
   ],
   "source": [
    "print(df.columns)\n",
    "print(df.shape)"
   ]
  },
  {
   "cell_type": "code",
   "execution_count": 4,
   "metadata": {
    "collapsed": false
   },
   "outputs": [
    {
     "data": {
      "text/html": [
       "<div>\n",
       "<table border=\"1\" class=\"dataframe\">\n",
       "  <thead>\n",
       "    <tr style=\"text-align: right;\">\n",
       "      <th></th>\n",
       "      <th>Survived</th>\n",
       "      <th>Pclass</th>\n",
       "      <th>Name</th>\n",
       "      <th>Sex</th>\n",
       "      <th>Age</th>\n",
       "      <th>SibSp</th>\n",
       "      <th>Parch</th>\n",
       "      <th>Ticket</th>\n",
       "      <th>Fare</th>\n",
       "      <th>Cabin</th>\n",
       "      <th>Embarked</th>\n",
       "    </tr>\n",
       "    <tr>\n",
       "      <th>PassengerId</th>\n",
       "      <th></th>\n",
       "      <th></th>\n",
       "      <th></th>\n",
       "      <th></th>\n",
       "      <th></th>\n",
       "      <th></th>\n",
       "      <th></th>\n",
       "      <th></th>\n",
       "      <th></th>\n",
       "      <th></th>\n",
       "      <th></th>\n",
       "    </tr>\n",
       "  </thead>\n",
       "  <tbody>\n",
       "    <tr>\n",
       "      <th>371</th>\n",
       "      <td>1</td>\n",
       "      <td>1</td>\n",
       "      <td>Harder, Mr. George Achilles</td>\n",
       "      <td>male</td>\n",
       "      <td>25.0</td>\n",
       "      <td>1</td>\n",
       "      <td>0</td>\n",
       "      <td>11765</td>\n",
       "      <td>55.4417</td>\n",
       "      <td>E50</td>\n",
       "      <td>C</td>\n",
       "    </tr>\n",
       "    <tr>\n",
       "      <th>889</th>\n",
       "      <td>0</td>\n",
       "      <td>3</td>\n",
       "      <td>Johnston, Miss. Catherine Helen \"Carrie\"</td>\n",
       "      <td>female</td>\n",
       "      <td>NaN</td>\n",
       "      <td>1</td>\n",
       "      <td>2</td>\n",
       "      <td>W./C. 6607</td>\n",
       "      <td>23.4500</td>\n",
       "      <td>NaN</td>\n",
       "      <td>S</td>\n",
       "    </tr>\n",
       "    <tr>\n",
       "      <th>232</th>\n",
       "      <td>0</td>\n",
       "      <td>3</td>\n",
       "      <td>Larsson, Mr. Bengt Edvin</td>\n",
       "      <td>male</td>\n",
       "      <td>29.0</td>\n",
       "      <td>0</td>\n",
       "      <td>0</td>\n",
       "      <td>347067</td>\n",
       "      <td>7.7750</td>\n",
       "      <td>NaN</td>\n",
       "      <td>S</td>\n",
       "    </tr>\n",
       "    <tr>\n",
       "      <th>373</th>\n",
       "      <td>0</td>\n",
       "      <td>3</td>\n",
       "      <td>Beavan, Mr. William Thomas</td>\n",
       "      <td>male</td>\n",
       "      <td>19.0</td>\n",
       "      <td>0</td>\n",
       "      <td>0</td>\n",
       "      <td>323951</td>\n",
       "      <td>8.0500</td>\n",
       "      <td>NaN</td>\n",
       "      <td>S</td>\n",
       "    </tr>\n",
       "    <tr>\n",
       "      <th>731</th>\n",
       "      <td>1</td>\n",
       "      <td>1</td>\n",
       "      <td>Allen, Miss. Elisabeth Walton</td>\n",
       "      <td>female</td>\n",
       "      <td>29.0</td>\n",
       "      <td>0</td>\n",
       "      <td>0</td>\n",
       "      <td>24160</td>\n",
       "      <td>211.3375</td>\n",
       "      <td>B5</td>\n",
       "      <td>S</td>\n",
       "    </tr>\n",
       "  </tbody>\n",
       "</table>\n",
       "</div>"
      ],
      "text/plain": [
       "             Survived  Pclass                                      Name  \\\n",
       "PassengerId                                                               \n",
       "371                 1       1               Harder, Mr. George Achilles   \n",
       "889                 0       3  Johnston, Miss. Catherine Helen \"Carrie\"   \n",
       "232                 0       3                  Larsson, Mr. Bengt Edvin   \n",
       "373                 0       3                Beavan, Mr. William Thomas   \n",
       "731                 1       1             Allen, Miss. Elisabeth Walton   \n",
       "\n",
       "                Sex   Age  SibSp  Parch      Ticket      Fare Cabin Embarked  \n",
       "PassengerId                                                                   \n",
       "371            male  25.0      1      0       11765   55.4417   E50        C  \n",
       "889          female   NaN      1      2  W./C. 6607   23.4500   NaN        S  \n",
       "232            male  29.0      0      0      347067    7.7750   NaN        S  \n",
       "373            male  19.0      0      0      323951    8.0500   NaN        S  \n",
       "731          female  29.0      0      0       24160  211.3375    B5        S  "
      ]
     },
     "execution_count": 4,
     "metadata": {},
     "output_type": "execute_result"
    }
   ],
   "source": [
    "df.sample(5)"
   ]
  },
  {
   "cell_type": "code",
   "execution_count": 5,
   "metadata": {
    "collapsed": false
   },
   "outputs": [
    {
     "data": {
      "text/html": [
       "<div>\n",
       "<table border=\"1\" class=\"dataframe\">\n",
       "  <thead>\n",
       "    <tr style=\"text-align: right;\">\n",
       "      <th></th>\n",
       "      <th>Survived</th>\n",
       "      <th>Pclass</th>\n",
       "      <th>Name</th>\n",
       "      <th>Sex</th>\n",
       "      <th>Age</th>\n",
       "      <th>SibSp</th>\n",
       "      <th>Parch</th>\n",
       "      <th>Ticket</th>\n",
       "      <th>Fare</th>\n",
       "      <th>Cabin</th>\n",
       "      <th>Embarked</th>\n",
       "    </tr>\n",
       "    <tr>\n",
       "      <th>PassengerId</th>\n",
       "      <th></th>\n",
       "      <th></th>\n",
       "      <th></th>\n",
       "      <th></th>\n",
       "      <th></th>\n",
       "      <th></th>\n",
       "      <th></th>\n",
       "      <th></th>\n",
       "      <th></th>\n",
       "      <th></th>\n",
       "      <th></th>\n",
       "    </tr>\n",
       "  </thead>\n",
       "  <tbody>\n",
       "    <tr>\n",
       "      <th>467</th>\n",
       "      <td>0</td>\n",
       "      <td>2</td>\n",
       "      <td>Campbell, Mr. William</td>\n",
       "      <td>male</td>\n",
       "      <td>NaN</td>\n",
       "      <td>0</td>\n",
       "      <td>0</td>\n",
       "      <td>239853</td>\n",
       "      <td>0.0000</td>\n",
       "      <td>NaN</td>\n",
       "      <td>S</td>\n",
       "    </tr>\n",
       "    <tr>\n",
       "      <th>816</th>\n",
       "      <td>0</td>\n",
       "      <td>1</td>\n",
       "      <td>Fry, Mr. Richard</td>\n",
       "      <td>male</td>\n",
       "      <td>NaN</td>\n",
       "      <td>0</td>\n",
       "      <td>0</td>\n",
       "      <td>112058</td>\n",
       "      <td>0.0000</td>\n",
       "      <td>B102</td>\n",
       "      <td>S</td>\n",
       "    </tr>\n",
       "    <tr>\n",
       "      <th>49</th>\n",
       "      <td>0</td>\n",
       "      <td>3</td>\n",
       "      <td>Samaan, Mr. Youssef</td>\n",
       "      <td>male</td>\n",
       "      <td>NaN</td>\n",
       "      <td>2</td>\n",
       "      <td>0</td>\n",
       "      <td>2662</td>\n",
       "      <td>21.6792</td>\n",
       "      <td>NaN</td>\n",
       "      <td>C</td>\n",
       "    </tr>\n",
       "    <tr>\n",
       "      <th>827</th>\n",
       "      <td>0</td>\n",
       "      <td>3</td>\n",
       "      <td>Lam, Mr. Len</td>\n",
       "      <td>male</td>\n",
       "      <td>NaN</td>\n",
       "      <td>0</td>\n",
       "      <td>0</td>\n",
       "      <td>1601</td>\n",
       "      <td>56.4958</td>\n",
       "      <td>NaN</td>\n",
       "      <td>S</td>\n",
       "    </tr>\n",
       "    <tr>\n",
       "      <th>644</th>\n",
       "      <td>1</td>\n",
       "      <td>3</td>\n",
       "      <td>Foo, Mr. Choong</td>\n",
       "      <td>male</td>\n",
       "      <td>NaN</td>\n",
       "      <td>0</td>\n",
       "      <td>0</td>\n",
       "      <td>1601</td>\n",
       "      <td>56.4958</td>\n",
       "      <td>NaN</td>\n",
       "      <td>S</td>\n",
       "    </tr>\n",
       "  </tbody>\n",
       "</table>\n",
       "</div>"
      ],
      "text/plain": [
       "             Survived  Pclass                   Name   Sex  Age  SibSp  Parch  \\\n",
       "PassengerId                                                                     \n",
       "467                 0       2  Campbell, Mr. William  male  NaN      0      0   \n",
       "816                 0       1       Fry, Mr. Richard  male  NaN      0      0   \n",
       "49                  0       3    Samaan, Mr. Youssef  male  NaN      2      0   \n",
       "827                 0       3           Lam, Mr. Len  male  NaN      0      0   \n",
       "644                 1       3        Foo, Mr. Choong  male  NaN      0      0   \n",
       "\n",
       "             Ticket     Fare Cabin Embarked  \n",
       "PassengerId                                  \n",
       "467          239853   0.0000   NaN        S  \n",
       "816          112058   0.0000  B102        S  \n",
       "49             2662  21.6792   NaN        C  \n",
       "827            1601  56.4958   NaN        S  \n",
       "644            1601  56.4958   NaN        S  "
      ]
     },
     "execution_count": 5,
     "metadata": {},
     "output_type": "execute_result"
    }
   ],
   "source": [
    "# The age column has nas, but they don't seem special at first sight.\n",
    "# I'll fill them with the median\n",
    "\n",
    "df[df['Age'].isnull()].sample(5)"
   ]
  },
  {
   "cell_type": "code",
   "execution_count": 6,
   "metadata": {
    "collapsed": false
   },
   "outputs": [],
   "source": [
    "# Substitute missing ages with the median (28)\n",
    "\n",
    "def replace_nas_with_median(dataframe, column):\n",
    "    clean_column = dataframe[column][:]\n",
    "    median_value = clean_column.median()\n",
    "    clean_column[clean_column.isnull()] = median_value\n",
    "    \n",
    "    dataframe[column] = clean_column"
   ]
  },
  {
   "cell_type": "code",
   "execution_count": 7,
   "metadata": {
    "collapsed": false
   },
   "outputs": [],
   "source": [
    "discrete_columns = ['Pclass','Sex', 'Cabin', 'Embarked']\n",
    "\n",
    "# Workaround to get pandas to behave as I want\n",
    "# Otherwise it keeps multilevel integer variables in a single column\n",
    "def one_hot(dataframe, discrete_columns):\n",
    "    \n",
    "    # Encode cabin as 'data present' vs 'absent'\n",
    "    dataframe['Cabin'] = ~dataframe['Cabin'].isnull()\n",
    "    \n",
    "    dummies = []\n",
    "    for column in discrete_columns:\n",
    "        these_dummies = pd.get_dummies(dataframe[column], prefix=column, drop_first=True)\n",
    "        dummies.append(these_dummies)\n",
    "        \n",
    "        \n",
    "    return pd.concat(dummies, axis=1)\n",
    "    \n",
    "discrete = one_hot(df, discrete_columns)"
   ]
  },
  {
   "cell_type": "code",
   "execution_count": 8,
   "metadata": {
    "collapsed": false
   },
   "outputs": [
    {
     "name": "stderr",
     "output_type": "stream",
     "text": [
      "/home/dani/anaconda3/envs/titanic/lib/python3.6/site-packages/ipykernel/__main__.py:8: SettingWithCopyWarning: \n",
      "A value is trying to be set on a copy of a slice from a DataFrame.\n",
      "Try using .loc[row_indexer,col_indexer] = value instead\n",
      "\n",
      "See the caveats in the documentation: http://pandas.pydata.org/pandas-docs/stable/indexing.html#indexing-view-versus-copy\n"
     ]
    }
   ],
   "source": [
    "continuous_columns = ['Age', 'Fare']\n",
    "\n",
    "def normalize_continuous(dataframe, continuous_columns):\n",
    "    continuous = dataframe[continuous_columns]\n",
    "    \n",
    "    for column in continuous_columns:\n",
    "        replace_nas_with_median(continuous, column)\n",
    "        \n",
    "    return (continuous - continuous.mean()) / (continuous.max() - continuous.min())\n",
    "\n",
    "continuous_normalized = normalize_continuous(df, continuous_columns)"
   ]
  },
  {
   "cell_type": "code",
   "execution_count": 9,
   "metadata": {
    "collapsed": false
   },
   "outputs": [],
   "source": [
    "features = pd.concat([discrete, continuous_normalized], axis=1)"
   ]
  },
  {
   "cell_type": "code",
   "execution_count": 10,
   "metadata": {
    "collapsed": false
   },
   "outputs": [
    {
     "data": {
      "text/plain": [
       "0"
      ]
     },
     "execution_count": 10,
     "metadata": {},
     "output_type": "execute_result"
    }
   ],
   "source": [
    "features['Age'].isnull().sum()"
   ]
  },
  {
   "cell_type": "code",
   "execution_count": 11,
   "metadata": {
    "collapsed": false
   },
   "outputs": [
    {
     "name": "stdout",
     "output_type": "stream",
     "text": [
      "(623, 8)\n",
      "(268, 8)\n"
     ]
    }
   ],
   "source": [
    "from sklearn.model_selection import train_test_split\n",
    "\n",
    "X_train, X_test, Y_train, Y_test = train_test_split(features, df['Survived'], test_size=0.3)\n",
    "\n",
    "print(X_train.shape)\n",
    "print(X_test.shape)"
   ]
  },
  {
   "cell_type": "code",
   "execution_count": 12,
   "metadata": {
    "collapsed": false
   },
   "outputs": [],
   "source": [
    "from sklearn.ensemble.forest import RandomForestClassifier\n",
    "\n",
    "forest = RandomForestClassifier()\n",
    "model = forest.fit(X_train, Y_train)\n",
    "predicted_probs = model.predict_proba(X_test)[:,1]\n",
    "predicted_class = model.predict(X_test)"
   ]
  },
  {
   "cell_type": "code",
   "execution_count": 13,
   "metadata": {
    "collapsed": false
   },
   "outputs": [
    {
     "name": "stdout",
     "output_type": "stream",
     "text": [
      "0.843314804853\n",
      "0.717948717949\n"
     ]
    }
   ],
   "source": [
    "from sklearn import metrics\n",
    "\n",
    "roc = metrics.roc_curve(Y_test, predicted_probs)\n",
    "print(metrics.roc_auc_score(Y_test, predicted_probs))\n",
    "print(metrics.f1_score(Y_test, predicted_class))"
   ]
  },
  {
   "cell_type": "code",
   "execution_count": 14,
   "metadata": {
    "collapsed": false
   },
   "outputs": [
    {
     "data": {
      "image/png": "[encoded data removed]",
      "text/plain": [
       "<matplotlib.figure.Figure at 0x7f33b33c3be0>"
      ]
     },
     "metadata": {},
     "output_type": "display_data"
    }
   ],
   "source": [
    "ax = plt.plot(roc[0],roc[1])"
   ]
  },
  {
   "cell_type": "markdown",
   "metadata": {},
   "source": [
    "Decent enough! Let's play around a bit more"
   ]
  },
  {
   "cell_type": "code",
   "execution_count": 15,
   "metadata": {
    "collapsed": false
   },
   "outputs": [],
   "source": [
    "# Let's use cross validation to waste less data and compare to an svm:\n",
    "from sklearn.model_selection import cross_val_predict\n",
    "\n",
    "rf_predictions = cross_val_predict(forest, features, df['Survived'], cv=10)\n",
    "\n",
    "\n",
    "from sklearn import svm\n",
    "\n",
    "SVM = svm.SVC(kernel='linear', C=1)\n",
    "\n",
    "svm_predictions = cross_val_predict(SVM, features, df['Survived'], cv=10)"
   ]
  },
  {
   "cell_type": "code",
   "execution_count": 16,
   "metadata": {
    "collapsed": false
   },
   "outputs": [
    {
     "name": "stdout",
     "output_type": "stream",
     "text": [
      "0.743902439024\n",
      "0.811447811448\n",
      "0.710365853659\n",
      "0.786756453423\n"
     ]
    }
   ],
   "source": [
    "print(metrics.f1_score(df['Survived'], rf_predictions))\n",
    "print(metrics.accuracy_score(df['Survived'], rf_predictions))\n",
    "print(metrics.f1_score(df['Survived'], svm_predictions))\n",
    "print(metrics.accuracy_score(df['Survived'], svm_predictions))"
   ]
  },
  {
   "cell_type": "code",
   "execution_count": 17,
   "metadata": {
    "collapsed": false
   },
   "outputs": [
    {
     "name": "stderr",
     "output_type": "stream",
     "text": [
      "/home/dani/anaconda3/envs/titanic/lib/python3.6/site-packages/ipykernel/__main__.py:8: SettingWithCopyWarning: \n",
      "A value is trying to be set on a copy of a slice from a DataFrame.\n",
      "Try using .loc[row_indexer,col_indexer] = value instead\n",
      "\n",
      "See the caveats in the documentation: http://pandas.pydata.org/pandas-docs/stable/indexing.html#indexing-view-versus-copy\n"
     ]
    }
   ],
   "source": [
    "def process_features(path):\n",
    "    df = pd.read_csv(path, index_col=0)\n",
    "    df_continuous = normalize_continuous(df, continuous_columns)\n",
    "    df_discrete = one_hot(df, discrete_columns)\n",
    "    df_features = pd.concat([df_discrete, df_continuous], axis=1)\n",
    "    \n",
    "    return df_features\n",
    "    \n",
    "def generate_submission(model, submission_features):\n",
    "    submission_predictions = model.predict(submission_features)\n",
    "    submission = pd.DataFrame(submission_predictions, index=submission_features.index, columns=['Survived'])\n",
    "    submission.to_csv('../data/submission.csv')\n",
    "    \n",
    "    \n",
    "submission_features = process_features('../data/test.csv')\n",
    "model = forest.fit(features, df['Survived'])\n",
    "generate_submission(model, submission_features)"
   ]
  },
  {
   "cell_type": "code",
   "execution_count": 18,
   "metadata": {
    "collapsed": false
   },
   "outputs": [],
   "source": [
    "# Once I fixed a stupid mistake, this got 0.708\n"
   ]
  },
  {
   "cell_type": "markdown",
   "metadata": {},
   "source": [
    "## Logistic regression"
   ]
  },
  {
   "cell_type": "code",
   "execution_count": 19,
   "metadata": {
    "collapsed": false
   },
   "outputs": [
    {
     "name": "stdout",
     "output_type": "stream",
     "text": [
      "0.698924731183\n",
      "0.791044776119\n"
     ]
    }
   ],
   "source": [
    "from sklearn.linear_model import LogisticRegressionCV\n",
    "\n",
    "logistic_model = LogisticRegressionCV()\n",
    "\n",
    "model = logistic_model.fit(X_train, Y_train)\n",
    "\n",
    "logit_predictions = model.predict(X_test)\n",
    "\n",
    "print(metrics.f1_score(Y_test, logit_predictions))\n",
    "print(metrics.accuracy_score(Y_test, logit_predictions))"
   ]
  },
  {
   "cell_type": "markdown",
   "metadata": {},
   "source": [
    "## For reference: really basic prediction:"
   ]
  },
  {
   "cell_type": "code",
   "execution_count": 20,
   "metadata": {
    "collapsed": false
   },
   "outputs": [],
   "source": [
    "female = 1 - features['Sex_male']"
   ]
  },
  {
   "cell_type": "code",
   "execution_count": 21,
   "metadata": {
    "collapsed": false
   },
   "outputs": [
    {
     "name": "stdout",
     "output_type": "stream",
     "text": [
      "0.710365853659\n",
      "0.786756453423\n"
     ]
    }
   ],
   "source": [
    "print(metrics.f1_score(df['Survived'], female))\n",
    "print(metrics.accuracy_score(df['Survived'], female))"
   ]
  },
  {
   "cell_type": "markdown",
   "metadata": {},
   "source": [
    "mmm this makes my RF and SVM look like shit. Even worse, the gender_submission scores 0.7655\n",
    "\n",
    "Sad"
   ]
  },
  {
   "cell_type": "markdown",
   "metadata": {},
   "source": [
    "## Let's try to refine the RF"
   ]
  },
  {
   "cell_type": "code",
   "execution_count": 22,
   "metadata": {
    "collapsed": false
   },
   "outputs": [
    {
     "name": "stdout",
     "output_type": "stream",
     "text": [
      "0.710659898477\n",
      "0.787313432836\n"
     ]
    }
   ],
   "source": [
    "from sklearn.ensemble import RandomForestClassifier\n",
    "\n",
    "rf_clf = RandomForestClassifier(n_estimators=100)\n",
    "\n",
    "rf_clf.fit(X_train, Y_train)\n",
    "\n",
    "print(metrics.f1_score(Y_test, rf_clf.predict(X_test)))\n",
    "print(metrics.accuracy_score(Y_test, rf_clf.predict(X_test))) # This is the score that the .score() method returns"
   ]
  },
  {
   "cell_type": "code",
   "execution_count": 23,
   "metadata": {
    "collapsed": false
   },
   "outputs": [
    {
     "name": "stderr",
     "output_type": "stream",
     "text": [
      "/home/dani/anaconda3/envs/titanic/lib/python3.6/site-packages/ipykernel/__main__.py:8: SettingWithCopyWarning: \n",
      "A value is trying to be set on a copy of a slice from a DataFrame.\n",
      "Try using .loc[row_indexer,col_indexer] = value instead\n",
      "\n",
      "See the caveats in the documentation: http://pandas.pydata.org/pandas-docs/stable/indexing.html#indexing-view-versus-copy\n"
     ]
    }
   ],
   "source": [
    "training_features = process_features('../data/train.csv')\n",
    "submission_features = process_features('../data/test.csv')\n",
    "\n",
    "rf_clf = RandomForestClassifier(n_estimators=100)\n",
    "rf_clf.fit(training_features, df['Survived'])\n",
    "\n",
    "generate_submission(rf_clf, submission_features)\n",
    "\n",
    "# this got 0.69... overfitting much?"
   ]
  },
  {
   "cell_type": "markdown",
   "metadata": {},
   "source": [
    "Ok what the fuck is going on here? Let's actually have a luck at the data, from scratch"
   ]
  },
  {
   "cell_type": "code",
   "execution_count": 24,
   "metadata": {
    "collapsed": false
   },
   "outputs": [
    {
     "data": {
      "image/png": "[encoded data removed]",
      "text/plain": [
       "<matplotlib.figure.Figure at 0x7f33ac1bc518>"
      ]
     },
     "metadata": {},
     "output_type": "display_data"
    }
   ],
   "source": [
    "# Most important variables: socioeconomic status and gender\n",
    "\n",
    "df = pd.read_csv('../data/train.csv', index_col=0)\n",
    "\n",
    "survivors = df[df['Survived']==1]\n",
    "casualties = df[df['Survived']!=1]\n",
    "variables_to_plot = ['Fare', 'Pclass', 'Age', 'SibSp', 'Parch']\n",
    "f, axes = plt.subplots(2,3)\n",
    "\n",
    "for i, var in enumerate(variables_to_plot):\n",
    "    ax = axes[int(i/3)][int(i%3)]\n",
    "    \n",
    "    \n",
    "    sns.kdeplot(survivors[var].dropna(), color=sns.xkcd_rgb['denim blue'], label='Survivors', ax=ax)\n",
    "    sns.kdeplot(casualties[var].dropna(), color=sns.xkcd_rgb['pale red'], label='Casualties', ax=ax)\n",
    "    ax.set_title(var)\n",
    "\n",
    "f.set_size_inches(14, 8)\n",
    "#_ = plt.xlim(-20, 125)"
   ]
  },
  {
   "cell_type": "code",
   "execution_count": 35,
   "metadata": {
    "collapsed": false
   },
   "outputs": [
    {
     "data": {
      "image/png": "[encoded data removed]",
      "text/plain": [
       "<matplotlib.figure.Figure at 0x7f33a9d10be0>"
      ]
     },
     "metadata": {},
     "output_type": "display_data"
    }
   ],
   "source": [
    "# Boxplots:\n",
    "\n",
    "df = pd.read_csv('../data/train.csv', index_col=0)\n",
    "\n",
    "survivors = df[df['Survived']==1]\n",
    "casualties = df[df['Survived']!=1]\n",
    "variables_to_plot = ['Fare', 'Pclass', 'Age', 'SibSp', 'Parch']\n",
    "f, axes = plt.subplots(2,3)\n",
    "\n",
    "for i, var in enumerate(variables_to_plot):\n",
    "    ax = axes[int(i/3)][int(i%3)]\n",
    "    \n",
    "    sns.boxplot(x='Survived', y=var, data=df, ax=ax)\n",
    "\n",
    "f.set_size_inches(14, 8)\n",
    "#_ = plt.xlim(-20, 125)"
   ]
  },
  {
   "cell_type": "markdown",
   "metadata": {},
   "source": [
    "# Minimal model\n"
   ]
  },
  {
   "cell_type": "code",
   "execution_count": 41,
   "metadata": {
    "collapsed": false
   },
   "outputs": [],
   "source": [
    "reduced_set = features[['Pclass_2','Pclass_3', 'Sex_male', 'Fare']]\n",
    "\n",
    "minimal = rf_clf.fit(reduced_set, df['Survived'])"
   ]
  },
  {
   "cell_type": "code",
   "execution_count": 42,
   "metadata": {
    "collapsed": false
   },
   "outputs": [
    {
     "name": "stderr",
     "output_type": "stream",
     "text": [
      "/home/dani/anaconda3/envs/titanic/lib/python3.6/site-packages/ipykernel/__main__.py:8: SettingWithCopyWarning: \n",
      "A value is trying to be set on a copy of a slice from a DataFrame.\n",
      "Try using .loc[row_indexer,col_indexer] = value instead\n",
      "\n",
      "See the caveats in the documentation: http://pandas.pydata.org/pandas-docs/stable/indexing.html#indexing-view-versus-copy\n"
     ]
    }
   ],
   "source": [
    "submission_features = process_features('../data/test.csv')\n",
    "submission_features_reduced = submission_features[['Pclass_2','Pclass_3', 'Sex_male', 'Fare']]\n",
    "\n",
    "generate_submission(minimal, submission_features_reduced)"
   ]
  },
  {
   "cell_type": "code",
   "execution_count": null,
   "metadata": {
    "collapsed": true
   },
   "outputs": [],
   "source": []
  }
 ],
 "metadata": {
  "anaconda-cloud": {},
  "kernelspec": {
   "display_name": "Python [conda env:titanic]",
   "language": "python",
   "name": "conda-env-titanic-py"
  },
  "language_info": {
   "codemirror_mode": {
    "name": "ipython",
    "version": 3
   },
   "file_extension": ".py",
   "mimetype": "text/x-python",
   "name": "python",
   "nbconvert_exporter": "python",
   "pygments_lexer": "ipython3",
   "version": "3.6.0"
  }
 },
 "nbformat": 4,
 "nbformat_minor": 1
}
