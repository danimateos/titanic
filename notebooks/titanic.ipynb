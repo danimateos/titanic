{
 "cells": [
  {
   "cell_type": "code",
   "execution_count": 1,
   "metadata": {
    "collapsed": false
   },
   "outputs": [],
   "source": [
    "import pandas as pd\n",
    "import seaborn as sns\n",
    "import matplotlib.pyplot as plt\n",
    "%matplotlib inline"
   ]
  },
  {
   "cell_type": "code",
   "execution_count": 2,
   "metadata": {
    "collapsed": false
   },
   "outputs": [],
   "source": [
    "df = pd.read_csv('../data/train.csv', index_col=0)"
   ]
  },
  {
   "cell_type": "code",
   "execution_count": 3,
   "metadata": {
    "collapsed": false
   },
   "outputs": [
    {
     "name": "stdout",
     "output_type": "stream",
     "text": [
      "Index(['Survived', 'Pclass', 'Name', 'Sex', 'Age', 'SibSp', 'Parch', 'Ticket',\n",
      "       'Fare', 'Cabin', 'Embarked'],\n",
      "      dtype='object')\n",
      "(891, 11)\n"
     ]
    }
   ],
   "source": [
    "print(df.columns)\n",
    "print(df.shape)"
   ]
  },
  {
   "cell_type": "code",
   "execution_count": 4,
   "metadata": {
    "collapsed": false
   },
   "outputs": [
    {
     "data": {
      "text/html": [
       "<div>\n",
       "<table border=\"1\" class=\"dataframe\">\n",
       "  <thead>\n",
       "    <tr style=\"text-align: right;\">\n",
       "      <th></th>\n",
       "      <th>Survived</th>\n",
       "      <th>Pclass</th>\n",
       "      <th>Name</th>\n",
       "      <th>Sex</th>\n",
       "      <th>Age</th>\n",
       "      <th>SibSp</th>\n",
       "      <th>Parch</th>\n",
       "      <th>Ticket</th>\n",
       "      <th>Fare</th>\n",
       "      <th>Cabin</th>\n",
       "      <th>Embarked</th>\n",
       "    </tr>\n",
       "    <tr>\n",
       "      <th>PassengerId</th>\n",
       "      <th></th>\n",
       "      <th></th>\n",
       "      <th></th>\n",
       "      <th></th>\n",
       "      <th></th>\n",
       "      <th></th>\n",
       "      <th></th>\n",
       "      <th></th>\n",
       "      <th></th>\n",
       "      <th></th>\n",
       "      <th></th>\n",
       "    </tr>\n",
       "  </thead>\n",
       "  <tbody>\n",
       "    <tr>\n",
       "      <th>528</th>\n",
       "      <td>0</td>\n",
       "      <td>1</td>\n",
       "      <td>Farthing, Mr. John</td>\n",
       "      <td>male</td>\n",
       "      <td>NaN</td>\n",
       "      <td>0</td>\n",
       "      <td>0</td>\n",
       "      <td>PC 17483</td>\n",
       "      <td>221.7792</td>\n",
       "      <td>C95</td>\n",
       "      <td>S</td>\n",
       "    </tr>\n",
       "    <tr>\n",
       "      <th>695</th>\n",
       "      <td>0</td>\n",
       "      <td>1</td>\n",
       "      <td>Weir, Col. John</td>\n",
       "      <td>male</td>\n",
       "      <td>60.0</td>\n",
       "      <td>0</td>\n",
       "      <td>0</td>\n",
       "      <td>113800</td>\n",
       "      <td>26.5500</td>\n",
       "      <td>NaN</td>\n",
       "      <td>S</td>\n",
       "    </tr>\n",
       "    <tr>\n",
       "      <th>19</th>\n",
       "      <td>0</td>\n",
       "      <td>3</td>\n",
       "      <td>Vander Planke, Mrs. Julius (Emelia Maria Vande...</td>\n",
       "      <td>female</td>\n",
       "      <td>31.0</td>\n",
       "      <td>1</td>\n",
       "      <td>0</td>\n",
       "      <td>345763</td>\n",
       "      <td>18.0000</td>\n",
       "      <td>NaN</td>\n",
       "      <td>S</td>\n",
       "    </tr>\n",
       "    <tr>\n",
       "      <th>377</th>\n",
       "      <td>1</td>\n",
       "      <td>3</td>\n",
       "      <td>Landergren, Miss. Aurora Adelia</td>\n",
       "      <td>female</td>\n",
       "      <td>22.0</td>\n",
       "      <td>0</td>\n",
       "      <td>0</td>\n",
       "      <td>C 7077</td>\n",
       "      <td>7.2500</td>\n",
       "      <td>NaN</td>\n",
       "      <td>S</td>\n",
       "    </tr>\n",
       "    <tr>\n",
       "      <th>127</th>\n",
       "      <td>0</td>\n",
       "      <td>3</td>\n",
       "      <td>McMahon, Mr. Martin</td>\n",
       "      <td>male</td>\n",
       "      <td>NaN</td>\n",
       "      <td>0</td>\n",
       "      <td>0</td>\n",
       "      <td>370372</td>\n",
       "      <td>7.7500</td>\n",
       "      <td>NaN</td>\n",
       "      <td>Q</td>\n",
       "    </tr>\n",
       "  </tbody>\n",
       "</table>\n",
       "</div>"
      ],
      "text/plain": [
       "             Survived  Pclass  \\\n",
       "PassengerId                     \n",
       "528                 0       1   \n",
       "695                 0       1   \n",
       "19                  0       3   \n",
       "377                 1       3   \n",
       "127                 0       3   \n",
       "\n",
       "                                                          Name     Sex   Age  \\\n",
       "PassengerId                                                                    \n",
       "528                                         Farthing, Mr. John    male   NaN   \n",
       "695                                            Weir, Col. John    male  60.0   \n",
       "19           Vander Planke, Mrs. Julius (Emelia Maria Vande...  female  31.0   \n",
       "377                            Landergren, Miss. Aurora Adelia  female  22.0   \n",
       "127                                        McMahon, Mr. Martin    male   NaN   \n",
       "\n",
       "             SibSp  Parch    Ticket      Fare Cabin Embarked  \n",
       "PassengerId                                                   \n",
       "528              0      0  PC 17483  221.7792   C95        S  \n",
       "695              0      0    113800   26.5500   NaN        S  \n",
       "19               1      0    345763   18.0000   NaN        S  \n",
       "377              0      0    C 7077    7.2500   NaN        S  \n",
       "127              0      0    370372    7.7500   NaN        Q  "
      ]
     },
     "execution_count": 4,
     "metadata": {},
     "output_type": "execute_result"
    }
   ],
   "source": [
    "df.sample(5)"
   ]
  },
  {
   "cell_type": "code",
   "execution_count": 5,
   "metadata": {
    "collapsed": false
   },
   "outputs": [
    {
     "data": {
      "image/png": "[encoded data removed]",
      "text/plain": [
       "<matplotlib.figure.Figure at 0x7f993a506390>"
      ]
     },
     "metadata": {},
     "output_type": "display_data"
    }
   ],
   "source": [
    "grid = sns.FacetGrid(data=df, row='Sex', col='Pclass')\n",
    "\n",
    "_ = grid.map(plt.hist, \"Survived\")"
   ]
  },
  {
   "cell_type": "code",
   "execution_count": 6,
   "metadata": {
    "collapsed": false
   },
   "outputs": [],
   "source": [
    "discrete_features = ['Pclass', 'Sex', 'SibSp','Parch']\n",
    "\n",
    "survivals = []\n",
    "\n",
    "for feature in discrete_features:\n",
    "    groups = df.copy().groupby(feature)\n",
    "       \n",
    "    survival_per_level = groups['Survived'].mean()\n",
    "    \n",
    "    survivals.append(survival_per_level)"
   ]
  },
  {
   "cell_type": "code",
   "execution_count": 7,
   "metadata": {
    "collapsed": false
   },
   "outputs": [
    {
     "data": {
      "text/plain": [
       "[Pclass\n",
       " 1    0.629630\n",
       " 2    0.472826\n",
       " 3    0.242363\n",
       " Name: Survived, dtype: float64, Sex\n",
       " female    0.742038\n",
       " male      0.188908\n",
       " Name: Survived, dtype: float64, SibSp\n",
       " 0    0.345395\n",
       " 1    0.535885\n",
       " 2    0.464286\n",
       " 3    0.250000\n",
       " 4    0.166667\n",
       " 5    0.000000\n",
       " 8    0.000000\n",
       " Name: Survived, dtype: float64, Parch\n",
       " 0    0.343658\n",
       " 1    0.550847\n",
       " 2    0.500000\n",
       " 3    0.600000\n",
       " 4    0.000000\n",
       " 5    0.200000\n",
       " 6    0.000000\n",
       " Name: Survived, dtype: float64]"
      ]
     },
     "execution_count": 7,
     "metadata": {},
     "output_type": "execute_result"
    }
   ],
   "source": [
    "survivals"
   ]
  },
  {
   "cell_type": "code",
   "execution_count": 8,
   "metadata": {
    "collapsed": false
   },
   "outputs": [
    {
     "data": {
      "image/png": "[encoded data removed]",
      "text/plain": [
       "<matplotlib.figure.Figure at 0x7f9936e890f0>"
      ]
     },
     "metadata": {},
     "output_type": "display_data"
    }
   ],
   "source": [
    "f, axes = plt.subplots(2,2)\n",
    "f.set_size_inches(12,8)\n",
    "\n",
    "for i, survival in enumerate(survivals):\n",
    "    current_axis = axes[int(i/2)][i%2]\n",
    "    survival.plot(kind='bar', ax=current_axis)\n",
    "    current_axis.set_ylim(0,0.8)"
   ]
  },
  {
   "cell_type": "code",
   "execution_count": 9,
   "metadata": {
    "collapsed": false
   },
   "outputs": [
    {
     "data": {
      "text/plain": [
       "(0, 200)"
      ]
     },
     "execution_count": 9,
     "metadata": {},
     "output_type": "execute_result"
    },
    {
     "data": {
      "image/png": "[encoded data removed]",
      "text/plain": [
       "<matplotlib.figure.Figure at 0x7f9936eb77b8>"
      ]
     },
     "metadata": {},
     "output_type": "display_data"
    }
   ],
   "source": [
    "sns.boxplot(data=df, y='Fare', x='Survived')\n",
    "plt.gca().set_ylim(0,200)"
   ]
  },
  {
   "cell_type": "code",
   "execution_count": 10,
   "metadata": {
    "collapsed": false
   },
   "outputs": [
    {
     "data": {
      "image/png": "[encoded data removed]",
      "text/plain": [
       "<matplotlib.figure.Figure at 0x7f99368aa550>"
      ]
     },
     "metadata": {},
     "output_type": "display_data"
    }
   ],
   "source": [
    "# Group by fare bins\n",
    "fare_groups = df.groupby(by=lambda row: int(df.ix[row]['Fare'] / 5))\n",
    "survival_per_fare = fare_groups['Survived'].mean()\n",
    "\n",
    "sns.regplot(survival_per_fare.index.values * 5, survival_per_fare.values)\n",
    "_ = plt.gca().set_title('Fare vs survival')"
   ]
  },
  {
   "cell_type": "code",
   "execution_count": 11,
   "metadata": {
    "collapsed": false
   },
   "outputs": [
    {
     "data": {
      "image/png": "[encoded data removed]",
      "text/plain": [
       "<matplotlib.figure.Figure at 0x7f9936b204e0>"
      ]
     },
     "metadata": {},
     "output_type": "display_data"
    }
   ],
   "source": [
    "cabin_type = df['Cabin'].str.get(0).fillna('X')\n",
    "\n",
    "# Group by Cabin types\n",
    "cabin_groups = df.groupby(by=cabin_type)\n",
    "survival_per_cabin = cabin_groups['Survived'].agg(['mean', 'count'])\n",
    "\n",
    "f, axes = plt.subplots(2,1)\n",
    "f.set_size_inches(10,6)\n",
    "ax = sns.barplot(survival_per_cabin.index.values, survival_per_cabin['mean'], color=sns.color_palette()[0], ax=axes[0])\n",
    "_ = ax.set_title('Survival per cabin type')\n",
    "\n",
    "fare_per_cabin = cabin_groups['Fare'].mean()\n",
    "ax = sns.barplot(fare_per_cabin.index.values, fare_per_cabin, color=sns.color_palette()[0], ax=axes[1])\n",
    "_ = ax.set_title('Survival per cabin type')\n",
    "\n"
   ]
  },
  {
   "cell_type": "code",
   "execution_count": 12,
   "metadata": {
    "collapsed": false
   },
   "outputs": [
    {
     "data": {
      "image/png": "[encoded data removed]",
      "text/plain": [
       "<matplotlib.figure.Figure at 0x7f9935a5b438>"
      ]
     },
     "metadata": {},
     "output_type": "display_data"
    }
   ],
   "source": [
    "# Family factors:\n",
    "\n",
    "survival_family_size = df.groupby(['SibSp', 'Parch'])['Survived'].aggregate(['mean', 'count'])\n",
    "#sns.heatmap(df['SibSp'], df['Parch'], kind='hex')\n",
    "#co_ocurrence = survival_family_size.pivot(index='SibSp', columns='Parch', values = 'count')\n",
    "\n",
    "\n",
    "f, axes = plt.subplots(1,2)\n",
    "f.set_size_inches(16,5)\n",
    "\n",
    "co_ocurrence = survival_family_size['count'].unstack()\n",
    "ax = sns.heatmap(co_ocurrence, ax=axes[0], annot=True)\n",
    "ax.set_title('Co-ocurrence of SibSp and Parch')\n",
    "\n",
    "survival = survival_family_size['mean'].unstack()\n",
    "ax = sns.heatmap(survival, ax=axes[1], annot=True)\n",
    "_ = ax.set_title('Mean survival per SibSp and Parch')"
   ]
  },
  {
   "cell_type": "code",
   "execution_count": 13,
   "metadata": {
    "collapsed": false
   },
   "outputs": [
    {
     "data": {
      "text/html": [
       "<div>\n",
       "<table border=\"1\" class=\"dataframe\">\n",
       "  <thead>\n",
       "    <tr style=\"text-align: right;\">\n",
       "      <th></th>\n",
       "      <th>mean</th>\n",
       "      <th>count</th>\n",
       "    </tr>\n",
       "  </thead>\n",
       "  <tbody>\n",
       "    <tr>\n",
       "      <th>0</th>\n",
       "      <td>0.303538</td>\n",
       "      <td>537</td>\n",
       "    </tr>\n",
       "    <tr>\n",
       "      <th>1</th>\n",
       "      <td>0.552795</td>\n",
       "      <td>161</td>\n",
       "    </tr>\n",
       "    <tr>\n",
       "      <th>2</th>\n",
       "      <td>0.578431</td>\n",
       "      <td>102</td>\n",
       "    </tr>\n",
       "    <tr>\n",
       "      <th>3</th>\n",
       "      <td>0.724138</td>\n",
       "      <td>29</td>\n",
       "    </tr>\n",
       "    <tr>\n",
       "      <th>4</th>\n",
       "      <td>0.200000</td>\n",
       "      <td>15</td>\n",
       "    </tr>\n",
       "    <tr>\n",
       "      <th>5</th>\n",
       "      <td>0.136364</td>\n",
       "      <td>22</td>\n",
       "    </tr>\n",
       "    <tr>\n",
       "      <th>6</th>\n",
       "      <td>0.333333</td>\n",
       "      <td>12</td>\n",
       "    </tr>\n",
       "    <tr>\n",
       "      <th>7</th>\n",
       "      <td>0.000000</td>\n",
       "      <td>6</td>\n",
       "    </tr>\n",
       "    <tr>\n",
       "      <th>10</th>\n",
       "      <td>0.000000</td>\n",
       "      <td>7</td>\n",
       "    </tr>\n",
       "  </tbody>\n",
       "</table>\n",
       "</div>"
      ],
      "text/plain": [
       "        mean  count\n",
       "0   0.303538    537\n",
       "1   0.552795    161\n",
       "2   0.578431    102\n",
       "3   0.724138     29\n",
       "4   0.200000     15\n",
       "5   0.136364     22\n",
       "6   0.333333     12\n",
       "7   0.000000      6\n",
       "10  0.000000      7"
      ]
     },
     "execution_count": 13,
     "metadata": {},
     "output_type": "execute_result"
    },
    {
     "data": {
      "image/png": "[encoded data removed]",
      "text/plain": [
       "<matplotlib.figure.Figure at 0x7f9935a210b8>"
      ]
     },
     "metadata": {},
     "output_type": "display_data"
    }
   ],
   "source": [
    "fam_size = df['SibSp'] + df['Parch']\n",
    "\n",
    "survival_per_fam_size = df.groupby(fam_size)['Survived'].agg(['mean', 'count'])\n",
    "\n",
    "sns.barplot(survival_per_fam_size.index,survival_per_fam_size['mean'], color=sns.color_palette()[0])\n",
    "survival_per_fam_size"
   ]
  },
  {
   "cell_type": "markdown",
   "metadata": {},
   "source": [
    "## Feature engineering:\n",
    "\n",
    "* Fare scaled\n",
    "* Sex has to be encoded into 0/1 -> LabelEncoder\n",
    "* Pclass will remain as is\n",
    "* SibSp and Parch - Sum\n",
    "* Interaction terms: use [this preprocessor](http://scikit-learn.org/stable/modules/generated/sklearn.preprocessing.PolynomialFeatures.html)\n",
    "* Cabin: first letter -> custom encoder?"
   ]
  },
  {
   "cell_type": "code",
   "execution_count": 14,
   "metadata": {
    "collapsed": true
   },
   "outputs": [],
   "source": [
    "from sklearn.preprocessing import OneHotEncoder, MinMaxScaler, LabelEncoder\n",
    "from sklearn.feature_extraction import DictVectorizer"
   ]
  },
  {
   "cell_type": "code",
   "execution_count": 15,
   "metadata": {
    "collapsed": false
   },
   "outputs": [
    {
     "data": {
      "text/plain": [
       "Index(['Survived', 'Pclass', 'Name', 'Sex', 'Age', 'SibSp', 'Parch', 'Ticket',\n",
       "       'Fare', 'Cabin', 'Embarked'],\n",
       "      dtype='object')"
      ]
     },
     "execution_count": 15,
     "metadata": {},
     "output_type": "execute_result"
    }
   ],
   "source": [
    "df.columns"
   ]
  },
  {
   "cell_type": "code",
   "execution_count": 16,
   "metadata": {
    "collapsed": true
   },
   "outputs": [],
   "source": [
    "Y = df['Survived']\n",
    "X = df[df.columns[1:]]"
   ]
  },
  {
   "cell_type": "markdown",
   "metadata": {},
   "source": [
    "## Extractors\n",
    "\n",
    "The official way to handle heterogeneous columns seems to be using FeatureUnion. That, I understand, results in something like this:"
   ]
  },
  {
   "cell_type": "code",
   "execution_count": 21,
   "metadata": {
    "collapsed": true
   },
   "outputs": [],
   "source": [
    "from sklearn.pipeline import Pipeline, FeatureUnion\n",
    "from sklearn.preprocessing import FunctionTransformer\n",
    "from sklearn.base import BaseEstimator, TransformerMixin\n",
    "\n",
    "# Has this really not been implemented somewhere already????\n",
    "class ColumnExtractor(BaseEstimator, TransformerMixin):\n",
    "    \n",
    "    def __init__(self, column):\n",
    "        self.col = column\n",
    "    \n",
    "    def fit(self, df, y=None):\n",
    "        return self\n",
    "    \n",
    "    def transform(self, df, y=None):\n",
    "        # Respect the shape in pipelines\n",
    "        vector = df[self.col].values.reshape(-1, 1)\n",
    "        return vector\n",
    "\n",
    "class InitialLetterExtractor(BaseEstimator, TransformerMixin):\n",
    "    \n",
    "    def __init__(self):\n",
    "        pass\n",
    "    \n",
    "    def fit(self, df, y=None):\n",
    "        return self\n",
    "    \n",
    "    def transform(self, df, y=None):\n",
    "        cabin = df.str.get(0).fillna('X')\n",
    "        vector = cabin.values.reshape(-1, 1)\n",
    "        return vector\n",
    "\n",
    "fare_preproc = Pipeline([\n",
    "        ('ext_fare', ColumnExtractor('Fare')),\n",
    "        ('minmax', MinMaxScaler())        \n",
    "    ])\n",
    "\n",
    "sex_preproc = Pipeline([\n",
    "        ('ext_sex', ColumnExtractor('Sex')),\n",
    "        ('encode_sex', LabelEncoder())        \n",
    "    ])\n",
    "\n",
    "class_preproc = ColumnExtractor('Pclass')\n",
    "\n",
    "familiy_preprocessor = FunctionTransformer(lambda X: (X['SibSp'] + X['Parch']).values.reshape(-1,1), validate=False)\n",
    "\n",
    "cabin_preproc = Pipeline([\n",
    "        ('ext_cab', ColumnExtractor('Cabin')),\n",
    "        ('letter_cab', InitialLetterExtractor()),\n",
    "        ('onehot_cab', OneHotEncoder())\n",
    "    ])\n",
    "\n",
    "from sklearn.tree import DecisionTreeClassifier\n",
    "\n",
    "features = FeatureUnion([\n",
    "                    ('fare', fare_preproc),\n",
    "                    ('sex', sex_preproc),\n",
    "                    ('class', class_preproc),\n",
    "                    ('fam', familiy_preprocessor),\n",
    "                    ('cabin', cabin_preproc)                    \n",
    "                ])\n",
    "\n",
    "pipeline = Pipeline([\n",
    "        ('features', features),\n",
    "        ('predict', DecisionTreeClassifier())\n",
    "    ])"
   ]
  },
  {
   "cell_type": "markdown",
   "metadata": {},
   "source": [
    "## sklearn_pandas\n",
    "\n",
    "However, there is a module that provides a much more elegant syntax for using DataFrames into sklearn. \n",
    "\n",
    "A problem is that it goes straight to the ndarrays, so we can't use the convenient `.str` from Series"
   ]
  },
  {
   "cell_type": "code",
   "execution_count": 129,
   "metadata": {
    "collapsed": false
   },
   "outputs": [
    {
     "name": "stderr",
     "output_type": "stream",
     "text": [
      "/home/dani/anaconda3/envs/titanic/lib/python3.6/site-packages/ipykernel/__main__.py:5: SettingWithCopyWarning: \n",
      "A value is trying to be set on a copy of a slice from a DataFrame\n",
      "\n",
      "See the caveats in the documentation: http://pandas.pydata.org/pandas-docs/stable/indexing.html#indexing-view-versus-copy\n"
     ]
    },
    {
     "ename": "TypeError",
     "evalue": "fit_transform() takes 2 positional arguments but 3 were given",
     "output_type": "error",
     "traceback": [
      "\u001b[0;31m---------------------------------------------------------------------------\u001b[0m",
      "\u001b[0;31mTypeError\u001b[0m                                 Traceback (most recent call last)",
      "\u001b[0;32m<ipython-input-129-a32571c5b62e>\u001b[0m in \u001b[0;36m<module>\u001b[0;34m()\u001b[0m\n\u001b[1;32m     17\u001b[0m                 ])\n\u001b[1;32m     18\u001b[0m \u001b[0;34m\u001b[0m\u001b[0m\n\u001b[0;32m---> 19\u001b[0;31m \u001b[0mcabinpip\u001b[0m\u001b[0;34m.\u001b[0m\u001b[0mfit_transform\u001b[0m\u001b[0;34m(\u001b[0m\u001b[0mdf\u001b[0m\u001b[0;34m[\u001b[0m\u001b[0;34m'Cabin'\u001b[0m\u001b[0;34m]\u001b[0m\u001b[0;34m)\u001b[0m\u001b[0;34m\u001b[0m\u001b[0m\n\u001b[0m",
      "\u001b[0;32m/home/dani/anaconda3/envs/titanic/lib/python3.6/site-packages/sklearn/pipeline.py\u001b[0m in \u001b[0;36mfit_transform\u001b[0;34m(self, X, y, **fit_params)\u001b[0m\n\u001b[1;32m    301\u001b[0m         \u001b[0mXt\u001b[0m\u001b[0;34m,\u001b[0m \u001b[0mfit_params\u001b[0m \u001b[0;34m=\u001b[0m \u001b[0mself\u001b[0m\u001b[0;34m.\u001b[0m\u001b[0m_fit\u001b[0m\u001b[0;34m(\u001b[0m\u001b[0mX\u001b[0m\u001b[0;34m,\u001b[0m \u001b[0my\u001b[0m\u001b[0;34m,\u001b[0m \u001b[0;34m**\u001b[0m\u001b[0mfit_params\u001b[0m\u001b[0;34m)\u001b[0m\u001b[0;34m\u001b[0m\u001b[0m\n\u001b[1;32m    302\u001b[0m         \u001b[0;32mif\u001b[0m \u001b[0mhasattr\u001b[0m\u001b[0;34m(\u001b[0m\u001b[0mlast_step\u001b[0m\u001b[0;34m,\u001b[0m \u001b[0;34m'fit_transform'\u001b[0m\u001b[0;34m)\u001b[0m\u001b[0;34m:\u001b[0m\u001b[0;34m\u001b[0m\u001b[0m\n\u001b[0;32m--> 303\u001b[0;31m             \u001b[0;32mreturn\u001b[0m \u001b[0mlast_step\u001b[0m\u001b[0;34m.\u001b[0m\u001b[0mfit_transform\u001b[0m\u001b[0;34m(\u001b[0m\u001b[0mXt\u001b[0m\u001b[0;34m,\u001b[0m \u001b[0my\u001b[0m\u001b[0;34m,\u001b[0m \u001b[0;34m**\u001b[0m\u001b[0mfit_params\u001b[0m\u001b[0;34m)\u001b[0m\u001b[0;34m\u001b[0m\u001b[0m\n\u001b[0m\u001b[1;32m    304\u001b[0m         \u001b[0;32melif\u001b[0m \u001b[0mlast_step\u001b[0m \u001b[0;32mis\u001b[0m \u001b[0;32mNone\u001b[0m\u001b[0;34m:\u001b[0m\u001b[0;34m\u001b[0m\u001b[0m\n\u001b[1;32m    305\u001b[0m             \u001b[0;32mreturn\u001b[0m \u001b[0mXt\u001b[0m\u001b[0;34m\u001b[0m\u001b[0m\n",
      "\u001b[0;31mTypeError\u001b[0m: fit_transform() takes 2 positional arguments but 3 were given"
     ]
    }
   ],
   "source": [
    "import numpy as np\n",
    "from sklearn_pandas import DataFrameMapper\n",
    "\n",
    "def get_initials(array):\n",
    "    array[array.astype(str) == 'nan'] = 'X'\n",
    "    initials = np.array(list(map(lambda x: x[0], array)))\n",
    "    \n",
    "    return initials     \n",
    "    \n",
    "def add_rowwise(df):\n",
    "    family = df[:, 0] + df[:,1]\n",
    "    return family\n",
    "\n",
    "cabinpip = Pipeline([\n",
    "                    ('initial', FunctionTransformer(get_initials, validate=False)), \n",
    "                    ('label', LabelEncoder()),\n",
    "                    ('onehot', OneHotEncoder())\n",
    "                ])\n",
    "\n",
    "cabinpip.fit_transform(df['Cabin'])"
   ]
  },
  {
   "cell_type": "code",
   "execution_count": null,
   "metadata": {
    "collapsed": true
   },
   "outputs": [],
   "source": [
    "\n",
    "mapper = DataFrameMapper([\n",
    "        (['Fare'], MinMaxScaler()),\n",
    "        ('Sex', LabelEncoder()),\n",
    "        (['SibSp', 'Parch'], FunctionTransformer(add_rowwise)),\n",
    "        ('Cabin', cabinpip)\n",
    "    ])\n",
    "\n",
    "mapper.fit_transform(X)"
   ]
  },
  {
   "cell_type": "code",
   "execution_count": null,
   "metadata": {
    "collapsed": true
   },
   "outputs": [],
   "source": []
  }
 ],
 "metadata": {
  "anaconda-cloud": {},
  "kernelspec": {
   "display_name": "Python [conda env:titanic]",
   "language": "python",
   "name": "conda-env-titanic-py"
  },
  "language_info": {
   "codemirror_mode": {
    "name": "ipython",
    "version": 3
   },
   "file_extension": ".py",
   "mimetype": "text/x-python",
   "name": "python",
   "nbconvert_exporter": "python",
   "pygments_lexer": "ipython3",
   "version": "3.6.0"
  }
 },
 "nbformat": 4,
 "nbformat_minor": 1
}
